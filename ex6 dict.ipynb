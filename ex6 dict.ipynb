{
 "cells": [
  {
   "cell_type": "code",
   "execution_count": 38,
   "metadata": {},
   "outputs": [
    {
     "name": "stdout",
     "output_type": "stream",
     "text": [
      "BMW\n"
     ]
    }
   ],
   "source": [
    "#1:Access items of a dictionary\n",
    "dict ={\n",
    "  \"brand\": \"Ford\",\n",
    "  \"model\": \"BMW\",\n",
    "  \"year\": 1964\n",
    "}\n",
    "x = dict[\"model\"]\n",
    "print(x)\n"
   ]
  },
  {
   "cell_type": "code",
   "execution_count": 5,
   "metadata": {},
   "outputs": [
    {
     "name": "stdout",
     "output_type": "stream",
     "text": [
      "{'brand': 'Ford', 'model': 'BMW', 'year': 2018}\n"
     ]
    }
   ],
   "source": [
    "#2:Change the value of a specific item\n",
    "dict ={\n",
    "  \"brand\": \"Ford\",\n",
    "  \"model\": \"BMW\",\n",
    "  \"year\": 1964\n",
    "}\n",
    "\n",
    "dict[\"year\"] = 2018\n",
    "\n",
    "print(dict)\n"
   ]
  },
  {
   "cell_type": "code",
   "execution_count": 6,
   "metadata": {},
   "outputs": [
    {
     "name": "stdout",
     "output_type": "stream",
     "text": [
      "Yes, 'model' is one of the keys in the dict dictionary\n"
     ]
    }
   ],
   "source": [
    "#3:Check if Key Exists\n",
    "dict = {\n",
    "  \"brand\": \"Ford\",\n",
    "  \"model\": \"BMW\",\n",
    "  \"year\": 1964\n",
    "}\n",
    "if \"model\" in dict:\n",
    "  print(\"Yes, 'model' is one of the keys in the dict dictionary\")\n"
   ]
  },
  {
   "cell_type": "code",
   "execution_count": 8,
   "metadata": {},
   "outputs": [
    {
     "name": "stdout",
     "output_type": "stream",
     "text": [
      "{'brand': 'Ford', 'model': 'BMW', 'year': 1964, 'color': 'red'}\n"
     ]
    }
   ],
   "source": [
    "#4:Adding an item to the dictionary\n",
    "dict = {\n",
    "  \"brand\": \"Ford\",\n",
    "  \"model\": \"BMW\",\n",
    "  \"year\": 1964\n",
    "}\n",
    "dict[\"color\"] = \"red\"\n",
    "print(dict)\n"
   ]
  },
  {
   "cell_type": "code",
   "execution_count": 30,
   "metadata": {},
   "outputs": [
    {
     "name": "stdout",
     "output_type": "stream",
     "text": [
      "{'brand': 'Ford', 'year': 1964}\n"
     ]
    }
   ],
   "source": [
    "#5: Removing items from the dictionary using pop()\n",
    "car = {\n",
    "  \"brand\": \"Ford\",\n",
    "  \"model\": \"BMW\",\n",
    "  \"year\": 1964\n",
    "}\n",
    "car.pop(\"model\")\n",
    "print(car)\n"
   ]
  },
  {
   "cell_type": "code",
   "execution_count": 29,
   "metadata": {},
   "outputs": [
    {
     "name": "stdout",
     "output_type": "stream",
     "text": [
      "{'brand': 'Ford', 'year': 1964}\n"
     ]
    }
   ],
   "source": [
    "#6: Removing items from the dictionary using del\n",
    "car = {\n",
    "  \"brand\": \"Ford\",\n",
    "  \"model\": \"BMW\",\n",
    "  \"year\": 1964\n",
    "}\n",
    "del car[\"model\"]\n",
    "print(car)"
   ]
  },
  {
   "cell_type": "code",
   "execution_count": 14,
   "metadata": {},
   "outputs": [
    {
     "name": "stdout",
     "output_type": "stream",
     "text": [
      "{}\n"
     ]
    }
   ],
   "source": [
    "#7: Removing items from the dictionary using clear()\n",
    "dict = {\n",
    "  \"brand\": \"Ford\",\n",
    "  \"model\": \"BMW\",\n",
    "  \"year\": 1964\n",
    "}\n",
    "car.clear()\n",
    "print(car)\n",
    "\n"
   ]
  },
  {
   "cell_type": "code",
   "execution_count": 28,
   "metadata": {},
   "outputs": [
    {
     "name": "stdout",
     "output_type": "stream",
     "text": [
      "dict_values(['Ford', 'BMW', 1964])\n"
     ]
    }
   ],
   "source": [
    "#8: Returns a list of all the values in the dictionary\n",
    "car = {\n",
    "  \"brand\": \"Ford\",\n",
    "  \"model\": \"BMW\",\n",
    "  \"year\": 1964\n",
    "}\n",
    "\n",
    "x = car.values()\n",
    "\n",
    "print(x)\n"
   ]
  },
  {
   "cell_type": "code",
   "execution_count": 35,
   "metadata": {},
   "outputs": [
    {
     "name": "stdout",
     "output_type": "stream",
     "text": [
      "3\n"
     ]
    }
   ],
   "source": [
    "#9: Get the length of a dictionary\n",
    "car={\n",
    "  \"brand\": \"Ford\",\n",
    "  \"model\": \"BMW\",\n",
    "  \"year\": 1964\n",
    "}\n",
    "\n",
    "print(len(car))\n",
    "\n"
   ]
  },
  {
   "cell_type": "code",
   "execution_count": 37,
   "metadata": {},
   "outputs": [
    {
     "name": "stdout",
     "output_type": "stream",
     "text": [
      "brand: Ford\n",
      "model: BMW\n",
      "year: 1964\n"
     ]
    }
   ],
   "source": [
    "#10: Loop through a dictionary\n",
    "car = {\n",
    "  \"brand:\": \"Ford\",\n",
    "  \"model:\": \"BMW\",\n",
    "  \"year:\": 1964\n",
    "}\n",
    "for x, y in car.items():\n",
    "  print(x, y)\n"
   ]
  },
  {
   "cell_type": "code",
   "execution_count": null,
   "metadata": {},
   "outputs": [],
   "source": []
  },
  {
   "cell_type": "code",
   "execution_count": null,
   "metadata": {},
   "outputs": [],
   "source": []
  }
 ],
 "metadata": {
  "kernelspec": {
   "display_name": "Python 3",
   "language": "python",
   "name": "python3"
  },
  "language_info": {
   "codemirror_mode": {
    "name": "ipython",
    "version": 3
   },
   "file_extension": ".py",
   "mimetype": "text/x-python",
   "name": "python",
   "nbconvert_exporter": "python",
   "pygments_lexer": "ipython3",
   "version": "3.8.3"
  }
 },
 "nbformat": 4,
 "nbformat_minor": 4
}
