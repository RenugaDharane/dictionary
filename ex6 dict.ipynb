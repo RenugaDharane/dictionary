{
 "cells": [
  {
   "cell_type": "code",
   "execution_count": 38,
   "metadata": {},
   "outputs": [
    {
     "name": "stdout",
     "output_type": "stream",
     "text": [
      "BMW\n"
     ]
    }
   ],
   "source": [
    "#1:Access items of a dictionary\n",
    "dict ={\n",
    "  \"brand\": \"Ford\",\n",
    "  \"model\": \"BMW\",\n",
    "  \"year\": 1964\n",
    "}\n",
    "x = dict[\"model\"]\n",
    "print(x)\n"
   ]
  },
  {
   "cell_type": "code",
   "execution_count": 5,
   "metadata": {},
   "outputs": [
    {
     "name": "stdout",
     "output_type": "stream",
     "text": [
      "{'brand': 'Ford', 'model': 'BMW', 'year': 2018}\n"
     ]
    }
   ],
   "source": [
    "#2:Change the value of a specific item\n",
    "dict ={\n",
    "  \"brand\": \"Ford\",\n",
    "  \"model\": \"BMW\",\n",
    "  \"year\": 1964\n",
    "}\n",
    "\n",
    "dict[\"year\"] = 2018\n",
    "\n",
    "print(dict)\n"
   ]
  },
  {
   "cell_type": "code",
   "execution_count": 6,
   "metadata": {},
   "outputs": [
    {
     "name": "stdout",
     "output_type": "stream",
     "text": [
      "Yes, 'model' is one of the keys in the dict dictionary\n"
     ]
    }
   ],
   "source": [
    "#3:Check if Key Exists\n",
    "dict = {\n",
    "  \"brand\": \"Ford\",\n",
    "  \"model\": \"BMW\",\n",
    "  \"year\": 1964\n",
    "}\n",
    "if \"model\" in dict:\n",
    "  print(\"Yes, 'model' is one of the keys in the dict dictionary\")\n"
   ]
  },
  {
   "cell_type": "code",
   "execution_count": 8,
   "metadata": {},
   "outputs": [
    {
     "name": "stdout",
     "output_type": "stream",
     "text": [
      "{'brand': 'Ford', 'model': 'BMW', 'year': 1964, 'color': 'red'}\n"
     ]
    }
   ],
   "source": [
    "#4:Adding an item to the dictionary\n",
    "dict = {\n",
    "  \"brand\": \"Ford\",\n",
    "  \"model\": \"BMW\",\n",
    "  \"year\": 1964\n",
    "}\n",
    "dict[\"color\"] = \"red\"\n",
    "print(dict)\n"
   ]
  },
  {
   "cell_type": "code",
   "execution_count": 30,
   "metadata": {},
   "outputs": [
    {
     "name": "stdout",
     "output_type": "stream",
     "text": [
      "{'brand': 'Ford', 'year': 1964}\n"
     ]
    }
   ],
   "source": [
    "#5: Removing items from the dictionary using pop()\n",
    "car = {\n",
    "  \"brand\": \"Ford\",\n",
    "  \"model\": \"BMW\",\n",
    "  \"year\": 1964\n",
    "}\n",
    "car.pop(\"model\")\n",
    "print(car)\n"
   ]
  },
  {
   "cell_type": "code",
   "execution_count": 29,
   "metadata": {},
   "outputs": [
    {
     "name": "stdout",
     "output_type": "stream",
     "text": [
      "{'brand': 'Ford', 'year': 1964}\n"
     ]
    }
   ],
   "source": [
    "#6: Removing items from the dictionary using del\n",
    "car = {\n",
    "  \"brand\": \"Ford\",\n",
    "  \"model\": \"BMW\",\n",
    "  \"year\": 1964\n",
    "}\n",
    "del car[\"model\"]\n",
    "print(car)"
   ]
  },
  {
   "cell_type": "code",
   "execution_count": 14,
   "metadata": {},
   "outputs": [
    {
     "name": "stdout",
     "output_type": "stream",
     "text": [
      "{}\n"
     ]
    }
   ],
   "source": [
    "#7: Removing items from the dictionary using clear()\n",
    "dict = {\n",
    "  \"brand\": \"Ford\",\n",
    "  \"model\": \"BMW\",\n",
    "  \"year\": 1964\n",
    "}\n",
    "car.clear()\n",
    "print(car)\n",
    "\n"
   ]
  },
  {
   "cell_type": "code",
   "execution_count": 28,
   "metadata": {},
   "outputs": [
    {
     "name": "stdout",
     "output_type": "stream",
     "text": [
      "dict_values(['Ford', 'BMW', 1964])\n"
     ]
    }
   ],
   "source": [
    "#8: Returns a list of all the values in the dictionary\n",
    "car = {\n",
    "  \"brand\": \"Ford\",\n",
    "  \"model\": \"BMW\",\n",
    "  \"year\": 1964\n",
    "}\n",
    "\n",
    "x = car.values()\n",
    "\n",
    "print(x)\n"
   ]
  },
  {
   "cell_type": "code",
   "execution_count": 35,
   "metadata": {},
   "outputs": [
    {
     "name": "stdout",
     "output_type": "stream",
     "text": [
      "3\n"
     ]
    }
   ],
   "source": [
    "#9: Get the length of a dictionary\n",
    "car={\n",
    "  \"brand\": \"Ford\",\n",
    "  \"model\": \"BMW\",\n",
    "  \"year\": 1964\n",
    "}\n",
    "\n",
    "print(len(car))\n",
    "\n"
   ]
  },
  {
   "cell_type": "code",
   "execution_count": 37,
   "metadata": {},
   "outputs": [
    {
     "name": "stdout",
     "output_type": "stream",
     "text": [
      "brand: Ford\n",
      "model: BMW\n",
      "year: 1964\n"
     ]
    }
   ],
   "source": [
    "#10: Loop through a dictionary\n",
    "car = {\n",
    "  \"brand:\": \"Ford\",\n",
    "  \"model:\": \"BMW\",\n",
    "  \"year:\": 1964\n",
    "}\n",
    "for x, y in car.items():\n",
    "  print(x, y)\n"
   ]
  },
  {
   "cell_type": "code",
   "execution_count": 2,
   "metadata": {},
   "outputs": [
    {
     "name": "stdout",
     "output_type": "stream",
     "text": [
      "CSE\n"
     ]
    }
   ],
   "source": [
    "#11\n",
    "mydict ={\n",
    "  \"name\": \"Renuga\",\n",
    "  \"dept\": \"CSE\",\n",
    "  \"year\": 4\n",
    "}\n",
    "x = mydict[\"dept\"]\n",
    "print(x)\n"
   ]
  },
  {
   "cell_type": "code",
   "execution_count": 3,
   "metadata": {},
   "outputs": [
    {
     "name": "stdout",
     "output_type": "stream",
     "text": [
      "{'name': 'Renuga', 'dept': 'CSE', 'year': 4}\n"
     ]
    }
   ],
   "source": [
    "#12\n",
    "mydict ={\n",
    "  \"name\": \"Renuga\",\n",
    "  \"dept\": \"CSE\",\n",
    "  \"year\": 4\n",
    "}\n",
    "print(mydict)\n"
   ]
  },
  {
   "cell_type": "code",
   "execution_count": 6,
   "metadata": {},
   "outputs": [
    {
     "name": "stdout",
     "output_type": "stream",
     "text": [
      "CSE\n"
     ]
    }
   ],
   "source": [
    "#13\n",
    "mydict ={\n",
    "  \"name\": \"Renuga\",\n",
    "  \"dept\": \"CSE\",\n",
    "  \"year\": 4\n",
    "}\n",
    "x= mydict.get(\"dept\")\n",
    "print(x)\n"
   ]
  },
  {
   "cell_type": "code",
   "execution_count": 8,
   "metadata": {},
   "outputs": [
    {
     "name": "stdout",
     "output_type": "stream",
     "text": [
      "{'name': 'Renuga', 'dept': 'CSE', 'year': 4}\n"
     ]
    }
   ],
   "source": [
    "#14\n",
    "mydict = {\n",
    "  \"name\": \"Renuga\",\n",
    "  \"dept\": \"CSE\",\n",
    "  \"year\": 4\n",
    "}\n",
    "\n",
    "mydict[\"year\"] = 4\n",
    "\n",
    "print(mydict)\n"
   ]
  },
  {
   "cell_type": "code",
   "execution_count": 9,
   "metadata": {},
   "outputs": [
    {
     "name": "stdout",
     "output_type": "stream",
     "text": [
      "name\n",
      "dept\n",
      "year\n"
     ]
    }
   ],
   "source": [
    "#15\n",
    "mydict = {\n",
    "   \"name\": \"Renuga\",\n",
    "  \"dept\": \"CSE\",\n",
    "  \"year\": 4\n",
    "}\n",
    "for x in mydict:\n",
    "  print(x)\n"
   ]
  },
  {
   "cell_type": "code",
   "execution_count": 10,
   "metadata": {},
   "outputs": [
    {
     "name": "stdout",
     "output_type": "stream",
     "text": [
      "Renuga\n",
      "CSE\n",
      "4\n"
     ]
    }
   ],
   "source": [
    "#16\n",
    "mydict = {\n",
    "   \"name\": \"Renuga\",\n",
    "  \"dept\": \"CSE\",\n",
    "  \"year\": 4\n",
    "}\n",
    "for x in mydict:\n",
    "  print(mydict[x])"
   ]
  },
  {
   "cell_type": "code",
   "execution_count": 12,
   "metadata": {},
   "outputs": [
    {
     "name": "stdout",
     "output_type": "stream",
     "text": [
      "name Renuga\n",
      "dept CSE\n",
      "year 4\n"
     ]
    }
   ],
   "source": [
    "#17\n",
    "mydict = {\n",
    "   \"name\": \"Renuga\",\n",
    "  \"dept\": \"CSE\",\n",
    "  \"year\": 4\n",
    "}\n",
    "for x,y in mydict.items():\n",
    "  print(x,y)\n"
   ]
  },
  {
   "cell_type": "code",
   "execution_count": 15,
   "metadata": {},
   "outputs": [
    {
     "name": "stdout",
     "output_type": "stream",
     "text": [
      "Yes, 'year' is one of the keys in the mydict dictionary.\n"
     ]
    }
   ],
   "source": [
    "#18\n",
    "mydict = {\n",
    "  \"name\": \"Renuga\",\n",
    "  \"dept\": \"CSE\",\n",
    "  \"year\": 4\n",
    "}\n",
    "if \"year\" in mydict:\n",
    "  print(\"Yes, 'year' is one of the keys in the mydict dictionary.\")\n"
   ]
  },
  {
   "cell_type": "code",
   "execution_count": 18,
   "metadata": {},
   "outputs": [
    {
     "name": "stdout",
     "output_type": "stream",
     "text": [
      "{'name': 'Renuga', 'dept': 'CSE', 'year': 4, 'course': 'B.E.'}\n"
     ]
    }
   ],
   "source": [
    "#19\n",
    "mydict = {\n",
    "  \"name\": \"Renuga\",\n",
    "  \"dept\": \"CSE\",\n",
    "  \"year\": 4\n",
    "}\n",
    "mydict[\"course\"] = \"B.E.\"\n",
    "print(mydict)\n"
   ]
  },
  {
   "cell_type": "code",
   "execution_count": 25,
   "metadata": {},
   "outputs": [
    {
     "name": "stdout",
     "output_type": "stream",
     "text": [
      "{'student1': {'name': 'Renuga', 'year': 1999}, 'student2': {'name': 'Renita', 'year': 2000}, 'student3': {'name': 'Regina', 'year': 2001}}\n"
     ]
    }
   ],
   "source": [
    "#20\n",
    "mydict = {\n",
    "  \"student1\" : {\n",
    "    \"name\" : \"Renuga\",\n",
    "    \"year\" : 1999\n",
    "  },\n",
    "  \"student2\" : {\n",
    "    \"name\" : \"Renita\",\n",
    "    \"year\" : 2000\n",
    "  },\n",
    "  \"student3\" : {\n",
    "    \"name\" : \"Regina\",\n",
    "    \"year\" : 2001\n",
    "  }\n",
    "}\n",
    "\n",
    "print(mydict)\n"
   ]
  },
  {
   "cell_type": "code",
   "execution_count": null,
   "metadata": {},
   "outputs": [],
   "source": []
  }
 ],
 "metadata": {
  "kernelspec": {
   "display_name": "Python 3",
   "language": "python",
   "name": "python3"
  },
  "language_info": {
   "codemirror_mode": {
    "name": "ipython",
    "version": 3
   },
   "file_extension": ".py",
   "mimetype": "text/x-python",
   "name": "python",
   "nbconvert_exporter": "python",
   "pygments_lexer": "ipython3",
   "version": "3.8.3"
  }
 },
 "nbformat": 4,
 "nbformat_minor": 4
}
